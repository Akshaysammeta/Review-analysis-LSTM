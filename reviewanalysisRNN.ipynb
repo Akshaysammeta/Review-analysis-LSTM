{
 "cells": [
  {
   "cell_type": "markdown",
   "id": "c575fa2a-2b5a-4bd8-8977-e36c0ef3835b",
   "metadata": {},
   "source": [
    "## Imports"
   ]
  },
  {
   "cell_type": "code",
   "execution_count": 1,
   "id": "02f44343-7bff-4d87-b034-3be58fb57187",
   "metadata": {},
   "outputs": [],
   "source": [
    "import torch\n",
    "import pandas as pd\n",
    "import matplotlib.pyplot as plt\n",
    "import re\n",
    "from torch.utils.data import Dataset, DataLoader, random_split\n"
   ]
  },
  {
   "cell_type": "markdown",
   "id": "50a241ad-e735-403c-b393-a10b00bb2e72",
   "metadata": {},
   "source": [
    "## Preprocessing "
   ]
  },
  {
   "cell_type": "code",
   "execution_count": 2,
   "id": "e4c4915e-72ac-446c-8e5c-38dd16555247",
   "metadata": {},
   "outputs": [
    {
     "data": {
      "text/html": [
       "<div>\n",
       "<style scoped>\n",
       "    .dataframe tbody tr th:only-of-type {\n",
       "        vertical-align: middle;\n",
       "    }\n",
       "\n",
       "    .dataframe tbody tr th {\n",
       "        vertical-align: top;\n",
       "    }\n",
       "\n",
       "    .dataframe thead th {\n",
       "        text-align: right;\n",
       "    }\n",
       "</style>\n",
       "<table border=\"1\" class=\"dataframe\">\n",
       "  <thead>\n",
       "    <tr style=\"text-align: right;\">\n",
       "      <th></th>\n",
       "      <th>review</th>\n",
       "      <th>sentiment</th>\n",
       "    </tr>\n",
       "  </thead>\n",
       "  <tbody>\n",
       "    <tr>\n",
       "      <th>0</th>\n",
       "      <td>One of the other reviewers has mentioned that ...</td>\n",
       "      <td>positive</td>\n",
       "    </tr>\n",
       "    <tr>\n",
       "      <th>1</th>\n",
       "      <td>A wonderful little production. &lt;br /&gt;&lt;br /&gt;The...</td>\n",
       "      <td>positive</td>\n",
       "    </tr>\n",
       "    <tr>\n",
       "      <th>2</th>\n",
       "      <td>I thought this was a wonderful way to spend ti...</td>\n",
       "      <td>positive</td>\n",
       "    </tr>\n",
       "    <tr>\n",
       "      <th>3</th>\n",
       "      <td>Basically there's a family where a little boy ...</td>\n",
       "      <td>negative</td>\n",
       "    </tr>\n",
       "    <tr>\n",
       "      <th>4</th>\n",
       "      <td>Petter Mattei's \"Love in the Time of Money\" is...</td>\n",
       "      <td>positive</td>\n",
       "    </tr>\n",
       "  </tbody>\n",
       "</table>\n",
       "</div>"
      ],
      "text/plain": [
       "                                              review sentiment\n",
       "0  One of the other reviewers has mentioned that ...  positive\n",
       "1  A wonderful little production. <br /><br />The...  positive\n",
       "2  I thought this was a wonderful way to spend ti...  positive\n",
       "3  Basically there's a family where a little boy ...  negative\n",
       "4  Petter Mattei's \"Love in the Time of Money\" is...  positive"
      ]
     },
     "execution_count": 2,
     "metadata": {},
     "output_type": "execute_result"
    }
   ],
   "source": [
    "df=pd.read_csv('IMDB Dataset.csv')\n",
    "df.head()"
   ]
  },
  {
   "cell_type": "code",
   "execution_count": 3,
   "id": "97c0b568-74c6-49ff-ab35-30a431db630a",
   "metadata": {},
   "outputs": [
    {
     "data": {
      "text/plain": [
       "sentiment\n",
       "positive    25000\n",
       "negative    25000\n",
       "Name: count, dtype: int64"
      ]
     },
     "execution_count": 3,
     "metadata": {},
     "output_type": "execute_result"
    }
   ],
   "source": [
    "train=[]\n",
    "labels=[]\n",
    "df[\"sentiment\"].value_counts()"
   ]
  },
  {
   "cell_type": "code",
   "execution_count": 4,
   "id": "a196fc66-99a2-4ec9-bbd0-427476d61087",
   "metadata": {},
   "outputs": [
    {
     "name": "stdout",
     "output_type": "stream",
     "text": [
      "One of the other reviewers has mentioned that after watching just 1 Oz episode you'll be hooked. They are right, as this is exactly what happened with me.<br /><br />The first thing that struck me about Oz was its brutality and unflinching scenes of violence, which set in right from the word GO. Trust me, this is not a show for the faint hearted or timid. This show pulls no punches with regards to drugs, sex or violence. Its is hardcore, in the classic use of the word.<br /><br />It is called OZ as that is the nickname given to the Oswald Maximum Security State Penitentary. It focuses mainly on Emerald City, an experimental section of the prison where all the cells have glass fronts and face inwards, so privacy is not high on the agenda. Em City is home to many..Aryans, Muslims, gangstas, Latinos, Christians, Italians, Irish and more....so scuffles, death stares, dodgy dealings and shady agreements are never far away.<br /><br />I would say the main appeal of the show is due to the fact that it goes where other shows wouldn't dare. Forget pretty pictures painted for mainstream audiences, forget charm, forget romance...OZ doesn't mess around. The first episode I ever saw struck me as so nasty it was surreal, I couldn't say I was ready for it, but as I watched more, I developed a taste for Oz, and got accustomed to the high levels of graphic violence. Not just violence, but injustice (crooked guards who'll be sold out for a nickel, inmates who'll kill on order and get away with it, well mannered, middle class inmates being turned into prison bitches due to their lack of street skills or prison experience) Watching Oz, you may become comfortable with what is uncomfortable viewing....thats if you can get in touch with your darker side.\n"
     ]
    },
    {
     "data": {
      "text/plain": [
       "1761"
      ]
     },
     "execution_count": 4,
     "metadata": {},
     "output_type": "execute_result"
    }
   ],
   "source": [
    "temp=df['review'][0]\n",
    "print(temp)\n",
    "len(temp)"
   ]
  },
  {
   "cell_type": "code",
   "execution_count": 5,
   "id": "161ab170-1e0d-47f3-9024-25926276ad27",
   "metadata": {},
   "outputs": [],
   "source": [
    "custom_stopwords = {\n",
    "    # Common stopwords\n",
    "    \"a\", \"an\", \"and\", \"are\", \"as\", \"at\", \"be\", \"but\", \"by\",  \n",
    "    \"for\", \"from\", \"has\", \"have\", \"he\", \"her\", \"his\", \"if\",  \n",
    "    \"in\", \"is\", \"it\", \"its\", \"just\", \"like\", \"more\", \"most\",  \n",
    "    \"my\", \"of\", \"on\", \"or\", \"so\", \"that\", \"the\", \"their\",  \n",
    "    \"them\", \"then\", \"there\", \"these\", \"they\", \"this\", \"those\",  \n",
    "    \"to\", \"too\", \"us\", \"was\", \"we\", \"were\", \"what\", \"when\",  \n",
    "    \"where\", \"which\", \"who\", \"why\", \"will\", \"with\", \"you\", \"your\",\n",
    "\n",
    "    # Common HTML tags\n",
    "    \"<html>\", \"</html>\", \"<head>\", \"</head>\", \"<body>\", \"</body>\",\n",
    "    \"<div>\", \"</div>\", \"<span>\", \"</span>\", \"<p>\", \"</p>\", \"<br>\",  \n",
    "    \"<h1>\", \"</h1>\", \"<h2>\", \"</h2>\", \"<h3>\", \"</h3>\", \"<h4>\", \"</h4>\",  \n",
    "    \"<h5>\", \"</h5>\", \"<h6>\", \"</h6>\", \"<a>\", \"</a>\", \"<ul>\", \"</ul>\",  \n",
    "    \"<ol>\", \"</ol>\", \"<li>\", \"</li>\", \"<table>\", \"</table>\", \"<tr>\", \"</tr>\",  \n",
    "    \"<td>\", \"</td>\", \"<th>\", \"</th>\", \"<strong>\", \"</strong>\", \"<em>\", \"</em>\",  \n",
    "    \"<i>\", \"</i>\", \"<b>\", \"</b>\", \"<u>\", \"</u>\", \"<blockquote>\", \"</blockquote>\",\n",
    "    \"<code>\", \"</code>\", \"<pre>\", \"</pre>\", \"<form>\", \"</form>\", \"<input>\",  \n",
    "    \"<img>\", \"<meta>\", \"<link>\", \"<script>\", \"</script>\", \"<style>\", \"</style>\"\n",
    "}\n"
   ]
  },
  {
   "cell_type": "code",
   "execution_count": 6,
   "id": "868e5a9e-da53-499e-bb4e-93d996d53db6",
   "metadata": {},
   "outputs": [],
   "source": [
    "unfiltered=[]\n",
    "labels=[]\n",
    "for index,row in df.iterrows():\n",
    "    unfiltered.append(row['review'])\n",
    "    if row['sentiment']=='positive':\n",
    "        labels.append(0)\n",
    "    else:\n",
    "        labels.append(1)\n",
    "    "
   ]
  },
  {
   "cell_type": "code",
   "execution_count": null,
   "id": "8182bfa5-1730-42dc-9828-87d2841e66d2",
   "metadata": {},
   "outputs": [],
   "source": [
    "'''\n",
    "train = []\n",
    "\n",
    "for review in unfiltered:  \n",
    "    filtered_data = []\n",
    "    for word in review.split():\n",
    "        clean = word.lower().strip(\".,!?<>/\\\"'\")  \n",
    "        if clean not in custom_stopwords:\n",
    "            filtered_data.append(word)  \n",
    "\n",
    "    data = ' '.join(filtered_data)  \n",
    "    train.append([data])  \n",
    "'''\n",
    "\n",
    "        "
   ]
  },
  {
   "cell_type": "code",
   "execution_count": 14,
   "id": "987f2569-061f-487f-888f-4e9a2dd5cb2b",
   "metadata": {},
   "outputs": [],
   "source": [
    "train = []\n",
    "temp=[]\n",
    "for review in unfiltered:\n",
    "    cleaned_review = re.sub(r'<[^>]+>', ' ', review)  \n",
    "    filtered_data = []\n",
    "    for word in cleaned_review.split():\n",
    "        clean_word = word.lower().strip(\".,!?<>/\\\\\\\"'\")  \n",
    "        if clean_word not in custom_stopwords:\n",
    "            filtered_data.append(word)  \n",
    "    data = ' '.join(filtered_data)\n",
    "    temp.append(data)\n",
    "\n",
    "\n",
    " "
   ]
  },
  {
   "cell_type": "code",
   "execution_count": 18,
   "id": "e56f58d6-f737-40e2-aa73-41d33071222f",
   "metadata": {},
   "outputs": [
    {
     "name": "stdout",
     "output_type": "stream",
     "text": [
      "1642\n"
     ]
    }
   ],
   "source": [
    "max_len=max(len(review.split()) for review in temp)\n",
    "print(max_len)"
   ]
  },
  {
   "cell_type": "code",
   "execution_count": 20,
   "id": "3ef4a3c6-680c-4220-8dc8-421418ecddee",
   "metadata": {},
   "outputs": [],
   "source": [
    "max_len=max(len(review.split()) for review in temp)\n",
    "\n",
    "for data in temp:\n",
    "    words=data.split()\n",
    "\n",
    "    if len(words)<max_len:\n",
    "        words+='0'*(max_len-len(words))\n",
    "    else:\n",
    "        words=words[:max_len]\n",
    "    train.append([\" \".join(words)])"
   ]
  },
  {
   "cell_type": "markdown",
   "id": "93e45f58-cfb7-4820-8518-825393cad510",
   "metadata": {},
   "source": [
    "## have to tokenize here"
   ]
  },
  {
   "cell_type": "code",
   "execution_count": null,
   "id": "9a186d80-1a69-48ca-9e36-b6b16df2b75c",
   "metadata": {},
   "outputs": [],
   "source": []
  },
  {
   "cell_type": "code",
   "execution_count": 26,
   "id": "0c4221b1-d284-4f12-bd1d-8dcb4fe842d2",
   "metadata": {},
   "outputs": [],
   "source": [
    "dataset = list(zip(train, labels))"
   ]
  },
  {
   "cell_type": "code",
   "execution_count": 27,
   "id": "3cd622b6-9031-4d02-adf3-66e5c6155576",
   "metadata": {},
   "outputs": [
    {
     "name": "stdout",
     "output_type": "stream",
     "text": [
      "([\"One other reviewers mentioned after watching 1 Oz episode you'll hooked. right, exactly happened me. first thing struck me about Oz brutality unflinching scenes violence, set right word GO. Trust me, not show faint hearted timid. show pulls no punches regards drugs, sex violence. hardcore, classic use word. called OZ nickname given Oswald Maximum Security State Penitentary. focuses mainly Emerald City, experimental section prison all cells glass fronts face inwards, privacy not high agenda. Em City home many..Aryans, Muslims, gangstas, Latinos, Christians, Italians, Irish more....so scuffles, death stares, dodgy dealings shady agreements never far away. I would say main appeal show due fact goes other shows wouldn't dare. Forget pretty pictures painted mainstream audiences, forget charm, forget romance...OZ doesn't mess around. first episode I ever saw struck me nasty surreal, I couldn't say I ready I watched I developed taste Oz, got accustomed high levels graphic violence. Not violence, injustice (crooked guards who'll sold out nickel, inmates who'll kill order get away well mannered, middle class inmates being turned into prison bitches due lack street skills prison experience) Watching Oz, may become comfortable uncomfortable viewing....thats can get touch darker side. 0 0 0 0 0 0 0 0 0 0 0 0 0 0 0 0 0 0 0 0 0 0 0 0 0 0 0 0 0 0 0 0 0 0 0 0 0 0 0 0 0 0 0 0 0 0 0 0 0 0 0 0 0 0 0 0 0 0 0 0 0 0 0 0 0 0 0 0 0 0 0 0 0 0 0 0 0 0 0 0 0 0 0 0 0 0 0 0 0 0 0 0 0 0 0 0 0 0 0 0 0 0 0 0 0 0 0 0 0 0 0 0 0 0 0 0 0 0 0 0 0 0 0 0 0 0 0 0 0 0 0 0 0 0 0 0 0 0 0 0 0 0 0 0 0 0 0 0 0 0 0 0 0 0 0 0 0 0 0 0 0 0 0 0 0 0 0 0 0 0 0 0 0 0 0 0 0 0 0 0 0 0 0 0 0 0 0 0 0 0 0 0 0 0 0 0 0 0 0 0 0 0 0 0 0 0 0 0 0 0 0 0 0 0 0 0 0 0 0 0 0 0 0 0 0 0 0 0 0 0 0 0 0 0 0 0 0 0 0 0 0 0 0 0 0 0 0 0 0 0 0 0 0 0 0 0 0 0 0 0 0 0 0 0 0 0 0 0 0 0 0 0 0 0 0 0 0 0 0 0 0 0 0 0 0 0 0 0 0 0 0 0 0 0 0 0 0 0 0 0 0 0 0 0 0 0 0 0 0 0 0 0 0 0 0 0 0 0 0 0 0 0 0 0 0 0 0 0 0 0 0 0 0 0 0 0 0 0 0 0 0 0 0 0 0 0 0 0 0 0 0 0 0 0 0 0 0 0 0 0 0 0 0 0 0 0 0 0 0 0 0 0 0 0 0 0 0 0 0 0 0 0 0 0 0 0 0 0 0 0 0 0 0 0 0 0 0 0 0 0 0 0 0 0 0 0 0 0 0 0 0 0 0 0 0 0 0 0 0 0 0 0 0 0 0 0 0 0 0 0 0 0 0 0 0 0 0 0 0 0 0 0 0 0 0 0 0 0 0 0 0 0 0 0 0 0 0 0 0 0 0 0 0 0 0 0 0 0 0 0 0 0 0 0 0 0 0 0 0 0 0 0 0 0 0 0 0 0 0 0 0 0 0 0 0 0 0 0 0 0 0 0 0 0 0 0 0 0 0 0 0 0 0 0 0 0 0 0 0 0 0 0 0 0 0 0 0 0 0 0 0 0 0 0 0 0 0 0 0 0 0 0 0 0 0 0 0 0 0 0 0 0 0 0 0 0 0 0 0 0 0 0 0 0 0 0 0 0 0 0 0 0 0 0 0 0 0 0 0 0 0 0 0 0 0 0 0 0 0 0 0 0 0 0 0 0 0 0 0 0 0 0 0 0 0 0 0 0 0 0 0 0 0 0 0 0 0 0 0 0 0 0 0 0 0 0 0 0 0 0 0 0 0 0 0 0 0 0 0 0 0 0 0 0 0 0 0 0 0 0 0 0 0 0 0 0 0 0 0 0 0 0 0 0 0 0 0 0 0 0 0 0 0 0 0 0 0 0 0 0 0 0 0 0 0 0 0 0 0 0 0 0 0 0 0 0 0 0 0 0 0 0 0 0 0 0 0 0 0 0 0 0 0 0 0 0 0 0 0 0 0 0 0 0 0 0 0 0 0 0 0 0 0 0 0 0 0 0 0 0 0 0 0 0 0 0 0 0 0 0 0 0 0 0 0 0 0 0 0 0 0 0 0 0 0 0 0 0 0 0 0 0 0 0 0 0 0 0 0 0 0 0 0 0 0 0 0 0 0 0 0 0 0 0 0 0 0 0 0 0 0 0 0 0 0 0 0 0 0 0 0 0 0 0 0 0 0 0 0 0 0 0 0 0 0 0 0 0 0 0 0 0 0 0 0 0 0 0 0 0 0 0 0 0 0 0 0 0 0 0 0 0 0 0 0 0 0 0 0 0 0 0 0 0 0 0 0 0 0 0 0 0 0 0 0 0 0 0 0 0 0 0 0 0 0 0 0 0 0 0 0 0 0 0 0 0 0 0 0 0 0 0 0 0 0 0 0 0 0 0 0 0 0 0 0 0 0 0 0 0 0 0 0 0 0 0 0 0 0 0 0 0 0 0 0 0 0 0 0 0 0 0 0 0 0 0 0 0 0 0 0 0 0 0 0 0 0 0 0 0 0 0 0 0 0 0 0 0 0 0 0 0 0 0 0 0 0 0 0 0 0 0 0 0 0 0 0 0 0 0 0 0 0 0 0 0 0 0 0 0 0 0 0 0 0 0 0 0 0 0 0 0 0 0 0 0 0 0 0 0 0 0 0 0 0 0 0 0 0 0 0 0 0 0 0 0 0 0 0 0 0 0 0 0 0 0 0 0 0 0 0 0 0 0 0 0 0 0 0 0 0 0 0 0 0 0 0 0 0 0 0 0 0 0 0 0 0 0 0 0 0 0 0 0 0 0 0 0 0 0 0 0 0 0 0 0 0 0 0 0 0 0 0 0 0 0 0 0 0 0 0 0 0 0 0 0 0 0 0 0 0 0 0 0 0 0 0 0 0 0 0 0 0 0 0 0 0 0 0 0 0 0 0 0 0 0 0 0 0 0 0 0 0 0 0 0 0 0 0 0 0 0 0 0 0 0 0 0 0 0 0 0 0 0 0 0 0 0 0 0 0 0 0 0 0 0 0 0 0 0 0 0 0 0 0 0 0 0 0 0 0 0 0 0 0 0 0 0 0 0 0 0 0 0 0 0 0 0 0 0 0 0 0 0 0 0 0 0 0 0 0 0 0 0 0 0 0 0 0 0 0 0 0 0 0 0 0 0 0 0 0 0 0 0 0 0 0 0 0 0 0 0 0 0 0 0 0 0 0 0 0 0 0 0 0 0 0 0 0 0 0 0 0 0 0 0 0 0 0 0 0 0 0 0 0 0 0 0 0 0 0 0 0 0 0 0 0 0 0 0 0 0 0 0 0 0 0 0 0 0 0 0 0 0 0 0 0 0 0 0 0 0 0 0 0 0 0 0 0 0 0 0 0 0 0 0 0 0 0 0 0 0 0 0 0 0 0 0 0 0 0 0 0 0 0 0 0 0 0 0 0 0 0 0 0 0 0 0 0 0 0 0 0 0 0 0 0 0 0 0 0 0 0 0 0 0 0 0 0 0 0 0 0 0 0 0 0 0 0 0 0 0 0 0 0 0 0 0 0 0 0 0 0 0 0 0 0 0 0 0 0 0 0 0 0 0 0 0 0 0 0 0 0 0 0 0 0 0 0 0 0 0\"], 0)\n"
     ]
    }
   ],
   "source": [
    "print(dataset[0])"
   ]
  },
  {
   "cell_type": "code",
   "execution_count": 28,
   "id": "0fe0932f-474a-43c7-80b3-e7f4d30b132c",
   "metadata": {},
   "outputs": [],
   "source": [
    "train_dataset,test_dataset=random_split(dataset,[40000,10000])\n",
    "train_loader = DataLoader(train_dataset, batch_size=32, shuffle=True)\n",
    "test_loader = DataLoader(test_dataset, batch_size=32, shuffle=False)"
   ]
  },
  {
   "cell_type": "code",
   "execution_count": null,
   "id": "b64f35ae-ac67-4efe-9f43-d525c4c509c2",
   "metadata": {},
   "outputs": [],
   "source": []
  }
 ],
 "metadata": {
  "kernelspec": {
   "display_name": "Python 3 (ipykernel)",
   "language": "python",
   "name": "python3"
  },
  "language_info": {
   "codemirror_mode": {
    "name": "ipython",
    "version": 3
   },
   "file_extension": ".py",
   "mimetype": "text/x-python",
   "name": "python",
   "nbconvert_exporter": "python",
   "pygments_lexer": "ipython3",
   "version": "3.12.3"
  }
 },
 "nbformat": 4,
 "nbformat_minor": 5
}
