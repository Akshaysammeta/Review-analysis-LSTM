{
 "cells": [
  {
   "cell_type": "code",
   "execution_count": 90,
   "id": "02f44343-7bff-4d87-b034-3be58fb57187",
   "metadata": {},
   "outputs": [],
   "source": [
    "import torch\n",
    "import pandas as pd\n",
    "import matplotlib.pyplot as plt\n",
    "import re\n",
    "from torch.utils.data import Dataset, DataLoader, random_split"
   ]
  },
  {
   "cell_type": "code",
   "execution_count": 7,
   "id": "e4c4915e-72ac-446c-8e5c-38dd16555247",
   "metadata": {},
   "outputs": [
    {
     "data": {
      "text/html": [
       "<div>\n",
       "<style scoped>\n",
       "    .dataframe tbody tr th:only-of-type {\n",
       "        vertical-align: middle;\n",
       "    }\n",
       "\n",
       "    .dataframe tbody tr th {\n",
       "        vertical-align: top;\n",
       "    }\n",
       "\n",
       "    .dataframe thead th {\n",
       "        text-align: right;\n",
       "    }\n",
       "</style>\n",
       "<table border=\"1\" class=\"dataframe\">\n",
       "  <thead>\n",
       "    <tr style=\"text-align: right;\">\n",
       "      <th></th>\n",
       "      <th>review</th>\n",
       "      <th>sentiment</th>\n",
       "    </tr>\n",
       "  </thead>\n",
       "  <tbody>\n",
       "    <tr>\n",
       "      <th>0</th>\n",
       "      <td>One of the other reviewers has mentioned that ...</td>\n",
       "      <td>positive</td>\n",
       "    </tr>\n",
       "    <tr>\n",
       "      <th>1</th>\n",
       "      <td>A wonderful little production. &lt;br /&gt;&lt;br /&gt;The...</td>\n",
       "      <td>positive</td>\n",
       "    </tr>\n",
       "    <tr>\n",
       "      <th>2</th>\n",
       "      <td>I thought this was a wonderful way to spend ti...</td>\n",
       "      <td>positive</td>\n",
       "    </tr>\n",
       "    <tr>\n",
       "      <th>3</th>\n",
       "      <td>Basically there's a family where a little boy ...</td>\n",
       "      <td>negative</td>\n",
       "    </tr>\n",
       "    <tr>\n",
       "      <th>4</th>\n",
       "      <td>Petter Mattei's \"Love in the Time of Money\" is...</td>\n",
       "      <td>positive</td>\n",
       "    </tr>\n",
       "  </tbody>\n",
       "</table>\n",
       "</div>"
      ],
      "text/plain": [
       "                                              review sentiment\n",
       "0  One of the other reviewers has mentioned that ...  positive\n",
       "1  A wonderful little production. <br /><br />The...  positive\n",
       "2  I thought this was a wonderful way to spend ti...  positive\n",
       "3  Basically there's a family where a little boy ...  negative\n",
       "4  Petter Mattei's \"Love in the Time of Money\" is...  positive"
      ]
     },
     "execution_count": 7,
     "metadata": {},
     "output_type": "execute_result"
    }
   ],
   "source": [
    "df=pd.read_csv('IMDB Dataset.csv')\n",
    "df.head()"
   ]
  },
  {
   "cell_type": "code",
   "execution_count": 15,
   "id": "97c0b568-74c6-49ff-ab35-30a431db630a",
   "metadata": {},
   "outputs": [
    {
     "data": {
      "text/plain": [
       "sentiment\n",
       "positive    25000\n",
       "negative    25000\n",
       "Name: count, dtype: int64"
      ]
     },
     "execution_count": 15,
     "metadata": {},
     "output_type": "execute_result"
    }
   ],
   "source": [
    "train=[]\n",
    "labels=[]\n",
    "df[\"sentiment\"].value_counts()"
   ]
  },
  {
   "cell_type": "code",
   "execution_count": 30,
   "id": "a196fc66-99a2-4ec9-bbd0-427476d61087",
   "metadata": {},
   "outputs": [
    {
     "name": "stdout",
     "output_type": "stream",
     "text": [
      "One of the other reviewers has mentioned that after watching just 1 Oz episode you'll be hooked. They are right, as this is exactly what happened with me.<br /><br />The first thing that struck me about Oz was its brutality and unflinching scenes of violence, which set in right from the word GO. Trust me, this is not a show for the faint hearted or timid. This show pulls no punches with regards to drugs, sex or violence. Its is hardcore, in the classic use of the word.<br /><br />It is called OZ as that is the nickname given to the Oswald Maximum Security State Penitentary. It focuses mainly on Emerald City, an experimental section of the prison where all the cells have glass fronts and face inwards, so privacy is not high on the agenda. Em City is home to many..Aryans, Muslims, gangstas, Latinos, Christians, Italians, Irish and more....so scuffles, death stares, dodgy dealings and shady agreements are never far away.<br /><br />I would say the main appeal of the show is due to the fact that it goes where other shows wouldn't dare. Forget pretty pictures painted for mainstream audiences, forget charm, forget romance...OZ doesn't mess around. The first episode I ever saw struck me as so nasty it was surreal, I couldn't say I was ready for it, but as I watched more, I developed a taste for Oz, and got accustomed to the high levels of graphic violence. Not just violence, but injustice (crooked guards who'll be sold out for a nickel, inmates who'll kill on order and get away with it, well mannered, middle class inmates being turned into prison bitches due to their lack of street skills or prison experience) Watching Oz, you may become comfortable with what is uncomfortable viewing....thats if you can get in touch with your darker side.\n"
     ]
    },
    {
     "data": {
      "text/plain": [
       "1761"
      ]
     },
     "execution_count": 30,
     "metadata": {},
     "output_type": "execute_result"
    }
   ],
   "source": [
    "temp=df['review'][0]\n",
    "print(temp)\n",
    "len(temp)"
   ]
  },
  {
   "cell_type": "code",
   "execution_count": 71,
   "id": "161ab170-1e0d-47f3-9024-25926276ad27",
   "metadata": {},
   "outputs": [],
   "source": [
    "custom_stopwords = {\n",
    "    # Common stopwords\n",
    "    \"a\", \"an\", \"and\", \"are\", \"as\", \"at\", \"be\", \"but\", \"by\",  \n",
    "    \"for\", \"from\", \"has\", \"have\", \"he\", \"her\", \"his\", \"if\",  \n",
    "    \"in\", \"is\", \"it\", \"its\", \"just\", \"like\", \"more\", \"most\",  \n",
    "    \"my\", \"of\", \"on\", \"or\", \"so\", \"that\", \"the\", \"their\",  \n",
    "    \"them\", \"then\", \"there\", \"these\", \"they\", \"this\", \"those\",  \n",
    "    \"to\", \"too\", \"us\", \"was\", \"we\", \"were\", \"what\", \"when\",  \n",
    "    \"where\", \"which\", \"who\", \"why\", \"will\", \"with\", \"you\", \"your\",\n",
    "\n",
    "    # Common HTML tags\n",
    "    \"<html>\", \"</html>\", \"<head>\", \"</head>\", \"<body>\", \"</body>\",\n",
    "    \"<div>\", \"</div>\", \"<span>\", \"</span>\", \"<p>\", \"</p>\", \"<br>\",  \n",
    "    \"<h1>\", \"</h1>\", \"<h2>\", \"</h2>\", \"<h3>\", \"</h3>\", \"<h4>\", \"</h4>\",  \n",
    "    \"<h5>\", \"</h5>\", \"<h6>\", \"</h6>\", \"<a>\", \"</a>\", \"<ul>\", \"</ul>\",  \n",
    "    \"<ol>\", \"</ol>\", \"<li>\", \"</li>\", \"<table>\", \"</table>\", \"<tr>\", \"</tr>\",  \n",
    "    \"<td>\", \"</td>\", \"<th>\", \"</th>\", \"<strong>\", \"</strong>\", \"<em>\", \"</em>\",  \n",
    "    \"<i>\", \"</i>\", \"<b>\", \"</b>\", \"<u>\", \"</u>\", \"<blockquote>\", \"</blockquote>\",\n",
    "    \"<code>\", \"</code>\", \"<pre>\", \"</pre>\", \"<form>\", \"</form>\", \"<input>\",  \n",
    "    \"<img>\", \"<meta>\", \"<link>\", \"<script>\", \"</script>\", \"<style>\", \"</style>\"\n",
    "}\n"
   ]
  },
  {
   "cell_type": "code",
   "execution_count": 72,
   "id": "868e5a9e-da53-499e-bb4e-93d996d53db6",
   "metadata": {},
   "outputs": [],
   "source": [
    "unfiltered=[]\n",
    "labels=[]\n",
    "for index,row in df.iterrows():\n",
    "    unfiltered.append(row['review'])\n",
    "    labels.append(row['sentiment'])\n",
    "    "
   ]
  },
  {
   "cell_type": "code",
   "execution_count": 75,
   "id": "8182bfa5-1730-42dc-9828-87d2841e66d2",
   "metadata": {},
   "outputs": [],
   "source": [
    "'''\n",
    "train = []\n",
    "\n",
    "for review in unfiltered:  \n",
    "    filtered_data = []\n",
    "    for word in review.split():\n",
    "        clean = word.lower().strip(\".,!?<>/\\\"'\")  \n",
    "        if clean not in custom_stopwords:\n",
    "            filtered_data.append(word)  \n",
    "\n",
    "    data = ' '.join(filtered_data)  \n",
    "    train.append([data])  \n",
    "'''\n",
    "\n",
    "        "
   ]
  },
  {
   "cell_type": "code",
   "execution_count": 81,
   "id": "987f2569-061f-487f-888f-4e9a2dd5cb2b",
   "metadata": {},
   "outputs": [],
   "source": [
    "train = []\n",
    "for review in unfiltered:\n",
    "    cleaned_review = re.sub(r'<[^>]+>', ' ', review)  \n",
    "    filtered_data = []\n",
    "    for word in cleaned_review.split():\n",
    "        clean_word = word.lower().strip(\".,!?<>/\\\\\\\"'\")  \n",
    "        if clean_word not in custom_stopwords:\n",
    "            filtered_data.append(word)  \n",
    "    data = ' '.join(filtered_data)\n",
    "    train.append([data])"
   ]
  },
  {
   "cell_type": "code",
   "execution_count": 84,
   "id": "0c4221b1-d284-4f12-bd1d-8dcb4fe842d2",
   "metadata": {},
   "outputs": [],
   "source": [
    "dataset = list(zip(train, labels))"
   ]
  },
  {
   "cell_type": "code",
   "execution_count": 86,
   "id": "3cd622b6-9031-4d02-adf3-66e5c6155576",
   "metadata": {},
   "outputs": [
    {
     "name": "stdout",
     "output_type": "stream",
     "text": [
      "([\"Basically there's family little boy (Jake) thinks there's zombie closet & parents fighting all time. movie slower than soap opera... suddenly, Jake decides become Rambo kill zombie. OK, first all you're going make film must Decide thriller drama! drama movie watchable. Parents divorcing & arguing real life. Jake closet totally ruins all film! I expected see BOOGEYMAN similar movie, instead i watched drama some meaningless thriller spots. 3 out 10 well playing parents & descent dialogs. shots Jake: ignore\"], 'negative')\n"
     ]
    }
   ],
   "source": [
    "print(dataset[3])"
   ]
  },
  {
   "cell_type": "code",
   "execution_count": 88,
   "id": "ef2db491-d889-4af0-80dc-485ba6e98171",
   "metadata": {},
   "outputs": [
    {
     "data": {
      "text/plain": [
       "50000"
      ]
     },
     "execution_count": 88,
     "metadata": {},
     "output_type": "execute_result"
    }
   ],
   "source": [
    "len(dataset)"
   ]
  },
  {
   "cell_type": "code",
   "execution_count": 92,
   "id": "0fe0932f-474a-43c7-80b3-e7f4d30b132c",
   "metadata": {},
   "outputs": [],
   "source": [
    "train_dataset,test_dataset=random_split(dataset,[40000,10000])\n",
    "train_loader = DataLoader(train_dataset, batch_size=32, shuffle=True)\n",
    "test_loader = DataLoader(test_dataset, batch_size=32, shuffle=False)\n"
   ]
  },
  {
   "cell_type": "code",
   "execution_count": 99,
   "id": "93b964ed-eb21-46c0-91c7-77c02bf776aa",
   "metadata": {},
   "outputs": [
    {
     "data": {
      "text/plain": [
       "1250"
      ]
     },
     "execution_count": 99,
     "metadata": {},
     "output_type": "execute_result"
    }
   ],
   "source": [
    "len(train_loader)"
   ]
  },
  {
   "cell_type": "code",
   "execution_count": null,
   "id": "fb227836-2411-429e-a57f-ae274837a111",
   "metadata": {},
   "outputs": [],
   "source": []
  }
 ],
 "metadata": {
  "kernelspec": {
   "display_name": "Python 3 (ipykernel)",
   "language": "python",
   "name": "python3"
  },
  "language_info": {
   "codemirror_mode": {
    "name": "ipython",
    "version": 3
   },
   "file_extension": ".py",
   "mimetype": "text/x-python",
   "name": "python",
   "nbconvert_exporter": "python",
   "pygments_lexer": "ipython3",
   "version": "3.12.3"
  }
 },
 "nbformat": 4,
 "nbformat_minor": 5
}
