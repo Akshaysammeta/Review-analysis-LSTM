{
 "cells": [
  {
   "cell_type": "markdown",
   "id": "c575fa2a-2b5a-4bd8-8977-e36c0ef3835b",
   "metadata": {},
   "source": [
    "## Imports"
   ]
  },
  {
   "cell_type": "code",
   "execution_count": 67,
   "id": "02f44343-7bff-4d87-b034-3be58fb57187",
   "metadata": {},
   "outputs": [],
   "source": [
    "import torch\n",
    "import pandas as pd\n",
    "import matplotlib.pyplot as plt\n",
    "import re\n",
    "from torch.utils.data import Dataset, DataLoader, random_split\n",
    "import nltk\n",
    "from nltk.tokenize import word_tokenize\n",
    "from nltk.corpus import stopwords\n",
    "from nltk.stem import WordNetLemmatizer\n",
    "from nltk.corpus import wordnet\n",
    "from tensorflow.keras.preprocessing.text import Tokenizer\n",
    "from tensorflow.keras.preprocessing.sequence import pad_sequences\n",
    "from tensorflow.keras.models import Sequential\n",
    "from tensorflow.keras.layers import Embedding, LSTM, Dense\n",
    "import numpy as np\n",
    "from sklearn.model_selection import train_test_split"
   ]
  },
  {
   "cell_type": "code",
   "execution_count": 2,
   "id": "0e2c1c11-91e3-4316-9a76-e6c689fb41af",
   "metadata": {},
   "outputs": [
    {
     "name": "stderr",
     "output_type": "stream",
     "text": [
      "[nltk_data] Downloading package punkt to\n",
      "[nltk_data]     C:\\Users\\Akshay\\AppData\\Roaming\\nltk_data...\n",
      "[nltk_data]   Package punkt is already up-to-date!\n",
      "[nltk_data] Downloading package stopwords to\n",
      "[nltk_data]     C:\\Users\\Akshay\\AppData\\Roaming\\nltk_data...\n",
      "[nltk_data]   Package stopwords is already up-to-date!\n",
      "[nltk_data] Downloading package averaged_perceptron_tagger to\n",
      "[nltk_data]     C:\\Users\\Akshay\\AppData\\Roaming\\nltk_data...\n",
      "[nltk_data]   Package averaged_perceptron_tagger is already up-to-\n",
      "[nltk_data]       date!\n",
      "[nltk_data] Downloading package wordnet to\n",
      "[nltk_data]     C:\\Users\\Akshay\\AppData\\Roaming\\nltk_data...\n",
      "[nltk_data]   Package wordnet is already up-to-date!\n",
      "[nltk_data] Downloading package punkt_tab to\n",
      "[nltk_data]     C:\\Users\\Akshay\\AppData\\Roaming\\nltk_data...\n",
      "[nltk_data]   Package punkt_tab is already up-to-date!\n"
     ]
    },
    {
     "data": {
      "text/plain": [
       "True"
      ]
     },
     "execution_count": 2,
     "metadata": {},
     "output_type": "execute_result"
    }
   ],
   "source": [
    "nltk.download('punkt')  # For tokenization\n",
    "nltk.download('stopwords')  # For stopwords\n",
    "nltk.download('averaged_perceptron_tagger')  # For POS tagging\n",
    "nltk.download('wordnet')  # For lemmatization\n",
    "nltk.download('punkt_tab')\n"
   ]
  },
  {
   "cell_type": "markdown",
   "id": "50a241ad-e735-403c-b393-a10b00bb2e72",
   "metadata": {},
   "source": [
    "## Preprocessing "
   ]
  },
  {
   "cell_type": "code",
   "execution_count": 19,
   "id": "e4c4915e-72ac-446c-8e5c-38dd16555247",
   "metadata": {},
   "outputs": [
    {
     "data": {
      "text/html": [
       "<div>\n",
       "<style scoped>\n",
       "    .dataframe tbody tr th:only-of-type {\n",
       "        vertical-align: middle;\n",
       "    }\n",
       "\n",
       "    .dataframe tbody tr th {\n",
       "        vertical-align: top;\n",
       "    }\n",
       "\n",
       "    .dataframe thead th {\n",
       "        text-align: right;\n",
       "    }\n",
       "</style>\n",
       "<table border=\"1\" class=\"dataframe\">\n",
       "  <thead>\n",
       "    <tr style=\"text-align: right;\">\n",
       "      <th></th>\n",
       "      <th>review</th>\n",
       "      <th>sentiment</th>\n",
       "    </tr>\n",
       "  </thead>\n",
       "  <tbody>\n",
       "    <tr>\n",
       "      <th>0</th>\n",
       "      <td>One of the other reviewers has mentioned that ...</td>\n",
       "      <td>positive</td>\n",
       "    </tr>\n",
       "    <tr>\n",
       "      <th>1</th>\n",
       "      <td>A wonderful little production. &lt;br /&gt;&lt;br /&gt;The...</td>\n",
       "      <td>positive</td>\n",
       "    </tr>\n",
       "    <tr>\n",
       "      <th>2</th>\n",
       "      <td>I thought this was a wonderful way to spend ti...</td>\n",
       "      <td>positive</td>\n",
       "    </tr>\n",
       "    <tr>\n",
       "      <th>3</th>\n",
       "      <td>Basically there's a family where a little boy ...</td>\n",
       "      <td>negative</td>\n",
       "    </tr>\n",
       "    <tr>\n",
       "      <th>4</th>\n",
       "      <td>Petter Mattei's \"Love in the Time of Money\" is...</td>\n",
       "      <td>positive</td>\n",
       "    </tr>\n",
       "  </tbody>\n",
       "</table>\n",
       "</div>"
      ],
      "text/plain": [
       "                                              review sentiment\n",
       "0  One of the other reviewers has mentioned that ...  positive\n",
       "1  A wonderful little production. <br /><br />The...  positive\n",
       "2  I thought this was a wonderful way to spend ti...  positive\n",
       "3  Basically there's a family where a little boy ...  negative\n",
       "4  Petter Mattei's \"Love in the Time of Money\" is...  positive"
      ]
     },
     "execution_count": 19,
     "metadata": {},
     "output_type": "execute_result"
    }
   ],
   "source": [
    "df=pd.read_csv('IMDB Dataset.csv')\n",
    "df.head()"
   ]
  },
  {
   "cell_type": "code",
   "execution_count": 23,
   "id": "fb50c2ad-e0e7-4c0d-b783-f2f98fdb457d",
   "metadata": {},
   "outputs": [],
   "source": [
    "labels=[]\n",
    "i=0\n",
    "for index,row in df.iterrows():\n",
    "    #print(row['sentiment'])\n",
    "    if row['sentiment']=='positive':\n",
    "        labels.append(1)\n",
    "    else:\n",
    "        labels.append(0)\n",
    "    \n",
    "    \n"
   ]
  },
  {
   "cell_type": "code",
   "execution_count": 25,
   "id": "bc4f2bec-a1d5-4db6-b10b-d1dcfcc9bafa",
   "metadata": {},
   "outputs": [
    {
     "data": {
      "text/plain": [
       "25000"
      ]
     },
     "execution_count": 25,
     "metadata": {},
     "output_type": "execute_result"
    }
   ],
   "source": [
    "labels.count(0)"
   ]
  },
  {
   "cell_type": "code",
   "execution_count": 26,
   "id": "17f7ce27-db7a-4e3d-b381-47b57573b05e",
   "metadata": {},
   "outputs": [],
   "source": [
    "custom_stopwords = set([\n",
    "    \"html\", \"head\", \"body\", \"title\", \"div\", \"span\", \"p\", \"br\", \"href\", \"class\", \"id\", \"script\", \"style\", \"meta\",\n",
    "    \"form\", \"input\", \"button\", \"ul\", \"li\", \"ol\", \"a\", \"img\", \"src\", \"alt\", \"strong\", \"table\", \"tr\", \"td\", \"th\",\n",
    "    \"link\", \"rel\", \"type\", \"nav\", \"footer\", \"header\", \"article\", \"section\", \"aside\", \"main\", \"label\", \"textarea\"\n",
    "    ,\"<\" , \".\" , \">\" ,\"'s\" ,\",\" , \"(\" , \")\" ,\"``\"\n",
    "])\n",
    "\n"
   ]
  },
  {
   "cell_type": "code",
   "execution_count": 27,
   "id": "efa11998-d291-450d-b342-80113fd441e2",
   "metadata": {},
   "outputs": [],
   "source": [
    "stop_words = set(stopwords.words('english')).union(custom_stopwords)"
   ]
  },
  {
   "cell_type": "code",
   "execution_count": 28,
   "id": "2aabec13-da33-4323-a5b0-9aace850a304",
   "metadata": {},
   "outputs": [],
   "source": [
    "df[\"word_tokens\"] = df[\"review\"].apply(lambda x: word_tokenize(str(x)))\n",
    "\n",
    "df[\"filtered_tokens\"] = df[\"word_tokens\"].apply(lambda x: [word.lower() for word in x if word.lower() not in stop_words])\n"
   ]
  },
  {
   "cell_type": "code",
   "execution_count": 30,
   "id": "1484d657-5c31-48b9-8af9-3f2492838980",
   "metadata": {},
   "outputs": [
    {
     "name": "stdout",
     "output_type": "stream",
     "text": [
      "                                     filtered_tokens\n",
      "0  [one, reviewers, mentioned, watching, 1, oz, e...\n",
      "1  [wonderful, little, production, /, /, filming,...\n",
      "2  [thought, wonderful, way, spend, time, hot, su...\n",
      "3  [basically, family, little, boy, jake, thinks,...\n",
      "4  [petter, mattei, love, time, money, '', visual...\n"
     ]
    }
   ],
   "source": [
    "print(df[[\"filtered_tokens\"]].head())\n"
   ]
  },
  {
   "cell_type": "code",
   "execution_count": 31,
   "id": "f6ae663f-ba05-4a64-ac83-93b36de91b9e",
   "metadata": {},
   "outputs": [],
   "source": [
    "lemmatizer = WordNetLemmatizer()\n",
    "\n",
    "df[\"lemmatized_tokens\"] = df[\"filtered_tokens\"].apply(lambda tokens: [lemmatizer.lemmatize(word) for word in tokens])"
   ]
  },
  {
   "cell_type": "code",
   "execution_count": 32,
   "id": "8d067977-622d-4e74-82ad-5431b14ce56c",
   "metadata": {},
   "outputs": [
    {
     "name": "stdout",
     "output_type": "stream",
     "text": [
      "                                   lemmatized_tokens\n",
      "0  [one, reviewer, mentioned, watching, 1, oz, ep...\n",
      "1  [wonderful, little, production, /, /, filming,...\n",
      "2  [thought, wonderful, way, spend, time, hot, su...\n",
      "3  [basically, family, little, boy, jake, think, ...\n",
      "4  [petter, mattei, love, time, money, '', visual...\n"
     ]
    }
   ],
   "source": [
    "print(df[[\"lemmatized_tokens\"]].head())"
   ]
  },
  {
   "cell_type": "code",
   "execution_count": 33,
   "id": "de3505ab-f1d7-4734-9387-01f15a31a4df",
   "metadata": {},
   "outputs": [],
   "source": [
    "tokenizer = Tokenizer(num_words=10000, oov_token=\"<OOV>\") # top 10000, oov replace\n",
    "tokenizer.fit_on_texts(df[\"filtered_tokens\"].astype(str))  #\n",
    "sequences = tokenizer.texts_to_sequences(df[\"filtered_tokens\"].astype(str))\n"
   ]
  },
  {
   "cell_type": "code",
   "execution_count": 43,
   "id": "f18e4d3a-8e04-464f-afb2-56a9a6c79bcd",
   "metadata": {},
   "outputs": [],
   "source": [
    "max_length = 200  \n",
    "data = pad_sequences(sequences, maxlen=max_length, padding=\"post\", truncating=\"post\")\n"
   ]
  },
  {
   "cell_type": "code",
   "execution_count": 71,
   "id": "2d306e33-51c8-435a-8858-247c2ef8e485",
   "metadata": {},
   "outputs": [],
   "source": [
    "labels =  np.array(labels)"
   ]
  },
  {
   "cell_type": "code",
   "execution_count": 72,
   "id": "36a8a33b-88a4-4dd3-9279-288c11adec7d",
   "metadata": {},
   "outputs": [],
   "source": [
    "train_data , test_data , train_labels , test_labels = train_test_split(data,labels,test_size = 0.2,shuffle = True , random_state = 69) "
   ]
  },
  {
   "cell_type": "markdown",
   "id": "aacc552b-d3c6-4ead-9849-ddef26e045fb",
   "metadata": {},
   "source": [
    "## Model"
   ]
  },
  {
   "cell_type": "code",
   "execution_count": 73,
   "id": "77dff37f-ef8b-4e9d-9326-dfc942ecca80",
   "metadata": {},
   "outputs": [],
   "source": [
    "model = Sequential([\n",
    "    Embedding(input_dim=10000, output_dim=128),\n",
    "    LSTM(64,return_sequences = False),\n",
    "    Dense(1,activation = 'sigmoid')\n",
    "])"
   ]
  },
  {
   "cell_type": "code",
   "execution_count": 74,
   "id": "95dc4e71-3a57-46ae-9337-745d3fc8a5fa",
   "metadata": {},
   "outputs": [],
   "source": [
    "model.compile(loss=\"binary_crossentropy\", optimizer=\"adam\", metrics=[\"accuracy\"])\n"
   ]
  },
  {
   "cell_type": "markdown",
   "id": "f33a87a1-3de1-4b07-8125-e26e03bd80c1",
   "metadata": {},
   "source": [
    "## Training the model\n"
   ]
  },
  {
   "cell_type": "code",
   "execution_count": 77,
   "id": "694356f2-6202-4694-8bf7-4cb3bbb696cb",
   "metadata": {},
   "outputs": [
    {
     "name": "stdout",
     "output_type": "stream",
     "text": [
      "Epoch 1/2\n",
      "\u001b[1m1000/1000\u001b[0m \u001b[32m━━━━━━━━━━━━━━━━━━━━\u001b[0m\u001b[37m\u001b[0m \u001b[1m118s\u001b[0m 118ms/step - accuracy: 0.9184 - loss: 0.2258 - val_accuracy: 0.8781 - val_loss: 0.2961\n",
      "Epoch 2/2\n",
      "\u001b[1m1000/1000\u001b[0m \u001b[32m━━━━━━━━━━━━━━━━━━━━\u001b[0m\u001b[37m\u001b[0m \u001b[1m120s\u001b[0m 120ms/step - accuracy: 0.9516 - loss: 0.1506 - val_accuracy: 0.8773 - val_loss: 0.3293\n"
     ]
    },
    {
     "data": {
      "text/plain": [
       "<keras.src.callbacks.history.History at 0x22d89676ba0>"
      ]
     },
     "execution_count": 77,
     "metadata": {},
     "output_type": "execute_result"
    }
   ],
   "source": [
    "model.fit(train_data , train_labels , epochs=2, batch_size=32, validation_split=0.2) # total 5 times"
   ]
  },
  {
   "cell_type": "code",
   "execution_count": 78,
   "id": "d3b7da93-6e7c-4d3b-80b8-dbdb5a77941d",
   "metadata": {},
   "outputs": [
    {
     "name": "stdout",
     "output_type": "stream",
     "text": [
      "\u001b[1m313/313\u001b[0m \u001b[32m━━━━━━━━━━━━━━━━━━━━\u001b[0m\u001b[37m\u001b[0m \u001b[1m13s\u001b[0m 43ms/step - accuracy: 0.8848 - loss: 0.3259\n",
      "Test Loss: 0.3228\n",
      "Test Accuracy: 0.8827\n"
     ]
    }
   ],
   "source": [
    "loss, accuracy = model.evaluate(test_data, test_labels, batch_size=32)\n",
    "print(f\"Test Loss: {loss:.4f}\")\n",
    "print(f\"Test Accuracy: {accuracy:.4f}\")\n"
   ]
  },
  {
   "cell_type": "code",
   "execution_count": null,
   "id": "c409deff-1846-406d-9eb1-b1fd1ea8cb84",
   "metadata": {},
   "outputs": [],
   "source": []
  }
 ],
 "metadata": {
  "kernelspec": {
   "display_name": "Python 3 (ipykernel)",
   "language": "python",
   "name": "python3"
  },
  "language_info": {
   "codemirror_mode": {
    "name": "ipython",
    "version": 3
   },
   "file_extension": ".py",
   "mimetype": "text/x-python",
   "name": "python",
   "nbconvert_exporter": "python",
   "pygments_lexer": "ipython3",
   "version": "3.12.3"
  }
 },
 "nbformat": 4,
 "nbformat_minor": 5
}
